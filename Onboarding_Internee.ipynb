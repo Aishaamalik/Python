{
  "nbformat": 4,
  "nbformat_minor": 0,
  "metadata": {
    "colab": {
      "provenance": [],
      "include_colab_link": true
    },
    "kernelspec": {
      "name": "python3",
      "display_name": "Python 3"
    },
    "language_info": {
      "name": "python"
    }
  },
  "cells": [
    {
      "cell_type": "markdown",
      "metadata": {
        "id": "view-in-github",
        "colab_type": "text"
      },
      "source": [
        "<a href=\"https://colab.research.google.com/github/Aishaamalik/Python/blob/main/Onboarding_Internee.ipynb\" target=\"_parent\"><img src=\"https://colab.research.google.com/assets/colab-badge.svg\" alt=\"Open In Colab\"/></a>"
      ]
    },
    {
      "cell_type": "code",
      "execution_count": 2,
      "metadata": {
        "id": "CF_EDgt1-RUj",
        "colab": {
          "base_uri": "https://localhost:8080/"
        },
        "outputId": "09b95990-25c9-42ec-80ec-a12112d66756"
      },
      "outputs": [
        {
          "output_type": "stream",
          "name": "stdout",
          "text": [
            "Hello, world!\n",
            "My age is 25\n"
          ]
        }
      ],
      "source": [
        "x = 5              # integer\n",
        "pi = 3.14          # float\n",
        "name = \"Anna\"      # string\n",
        "is_happy = True    # boolean\n",
        "\n",
        "print(\"Hello, world!\")\n",
        "print(\"My age is\", 25)\n"
      ]
    }
  ]
}