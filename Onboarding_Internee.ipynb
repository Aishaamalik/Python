{
  "nbformat": 4,
  "nbformat_minor": 0,
  "metadata": {
    "colab": {
      "provenance": [],
      "include_colab_link": true
    },
    "kernelspec": {
      "name": "python3",
      "display_name": "Python 3"
    },
    "language_info": {
      "name": "python"
    }
  },
  "cells": [
    {
      "cell_type": "markdown",
      "metadata": {
        "id": "view-in-github",
        "colab_type": "text"
      },
      "source": [
        "<a href=\"https://colab.research.google.com/github/Aishaamalik/Python/blob/main/Onboarding_Internee.ipynb\" target=\"_parent\"><img src=\"https://colab.research.google.com/assets/colab-badge.svg\" alt=\"Open In Colab\"/></a>"
      ]
    },
    {
      "cell_type": "code",
      "execution_count": 2,
      "metadata": {
        "id": "CF_EDgt1-RUj",
        "colab": {
          "base_uri": "https://localhost:8080/"
        },
        "outputId": "09b95990-25c9-42ec-80ec-a12112d66756"
      },
      "outputs": [
        {
          "output_type": "stream",
          "name": "stdout",
          "text": [
            "Hello, world!\n",
            "My age is 25\n"
          ]
        }
      ],
      "source": [
        "x = 5              # integer\n",
        "pi = 3.14          # float\n",
        "name = \"Anna\"      # string\n",
        "is_happy = True    # boolean\n",
        "\n",
        "print(\"Hello, world!\")\n",
        "print(\"My age is\", 25)\n"
      ]
    },
    {
      "cell_type": "markdown",
      "source": [
        "# 🧮 Primitive Datatypes and Operators\n",
        "\n",
        "In this section, we'll cover the most essential parts of Python:\n",
        "- Numbers and arithmetic\n",
        "- Booleans and logic\n",
        "- Comparisons\n",
        "- Strings\n",
        "- `None`\n",
        "- Identity vs Equality\n"
      ],
      "metadata": {
        "id": "VHzXzv3xIoBG"
      }
    },
    {
      "cell_type": "markdown",
      "source": [
        "##Code Cell: Numbers and Arithmetic"
      ],
      "metadata": {
        "id": "6vGjBkNAI67N"
      }
    },
    {
      "cell_type": "code",
      "source": [
        "# Numbers in Python\n",
        "3  # => 3\n",
        "\n",
        "# Basic math operations\n",
        "print(1 + 1)    # => 2\n",
        "print(8 - 1)    # => 7\n",
        "print(10 * 2)   # => 20\n",
        "print(35 / 5)   # => 7.0\n",
        "\n",
        "# Floor division (rounds down)\n",
        "print(5 // 3)       # => 1\n",
        "print(-5 // 3)      # => -2\n",
        "print(5.0 // 3.0)   # => 1.0\n",
        "print(-5.0 // 3.0)  # => -2.0\n",
        "\n",
        "# Normal division always returns a float\n",
        "print(10.0 / 3)     # => 3.3333333333333335\n",
        "\n",
        "# Modulo (remainder)\n",
        "print(7 % 3)    # => 1\n",
        "print(-7 % 3)   # => 2\n",
        "\n",
        "# Exponentiation\n",
        "print(2 ** 3)   # => 8\n",
        "\n",
        "# Precedence and parentheses\n",
        "print(1 + 3 * 2)     # => 7\n",
        "print((1 + 3) * 2)   # => 8\n"
      ],
      "metadata": {
        "id": "QMpxWo9BIrKL",
        "outputId": "44ce4013-5ce1-4044-e402-5a0c400c14e3",
        "colab": {
          "base_uri": "https://localhost:8080/"
        }
      },
      "execution_count": 3,
      "outputs": [
        {
          "output_type": "stream",
          "name": "stdout",
          "text": [
            "2\n",
            "7\n",
            "20\n",
            "7.0\n",
            "1\n",
            "-2\n",
            "1.0\n",
            "-2.0\n",
            "3.3333333333333335\n",
            "1\n",
            "2\n",
            "8\n",
            "7\n",
            "8\n"
          ]
        }
      ]
    },
    {
      "cell_type": "markdown",
      "source": [
        "## 🧠 Boolean Logic\n",
        "\n",
        "Python has two boolean values: `True` and `False`.\n",
        "You can use logical operators like `not`, `and`, `or`.\n"
      ],
      "metadata": {
        "id": "nIdT542pJDBp"
      }
    },
    {
      "cell_type": "markdown",
      "source": [
        "## Code Cell: Boolean Values and Operators"
      ],
      "metadata": {
        "id": "8GBNQajsJHk6"
      }
    },
    {
      "cell_type": "code",
      "source": [
        "# Boolean values\n",
        "print(True)\n",
        "print(False)\n",
        "\n",
        "# Negation\n",
        "print(not True)     # => False\n",
        "print(not False)    # => True\n",
        "\n",
        "# Boolean operators\n",
        "print(True and False)   # => False\n",
        "print(False or True)    # => True\n",
        "\n",
        "# Booleans are also integers!\n",
        "print(True + True)  # => 2\n",
        "print(True * 8)     # => 8\n",
        "print(False - 5)    # => -5\n"
      ],
      "metadata": {
        "id": "WBYejFw7JExt",
        "outputId": "93aadfc5-3e6f-496a-c685-4f637cfa9956",
        "colab": {
          "base_uri": "https://localhost:8080/"
        }
      },
      "execution_count": 4,
      "outputs": [
        {
          "output_type": "stream",
          "name": "stdout",
          "text": [
            "True\n",
            "False\n",
            "False\n",
            "True\n",
            "False\n",
            "True\n",
            "2\n",
            "8\n",
            "-5\n"
          ]
        }
      ]
    },
    {
      "cell_type": "markdown",
      "source": [
        "## Code Cell: Truthiness and Casting"
      ],
      "metadata": {
        "id": "MQF4l1vXJTV0"
      }
    },
    {
      "cell_type": "code",
      "source": [
        "# Comparisons with True/False\n",
        "print(0 == False)   # => True\n",
        "print(2 > True)     # => True\n",
        "print(2 == True)    # => False\n",
        "print(-5 != False)  # => True\n",
        "\n",
        "# Truthiness of values\n",
        "print(bool(0))      # => False\n",
        "print(bool(\"\"))     # => False\n",
        "print(bool([]))     # => False\n",
        "print(bool({}))     # => False\n",
        "print(bool(()))     # => False\n",
        "print(bool(set()))  # => False\n",
        "print(bool(4))      # => True\n",
        "print(bool(-6))     # => True\n",
        "\n",
        "# Logical operators return the actual value\n",
        "print(0 and 2)      # => 0\n",
        "print(-5 or 0)      # => -5\n"
      ],
      "metadata": {
        "id": "NUVzYqQMJWL0",
        "outputId": "00f65ced-b0ef-4d3e-9620-d2a5269eeea3",
        "colab": {
          "base_uri": "https://localhost:8080/"
        }
      },
      "execution_count": 5,
      "outputs": [
        {
          "output_type": "stream",
          "name": "stdout",
          "text": [
            "True\n",
            "True\n",
            "False\n",
            "True\n",
            "False\n",
            "False\n",
            "False\n",
            "False\n",
            "False\n",
            "False\n",
            "True\n",
            "True\n",
            "0\n",
            "-5\n"
          ]
        }
      ]
    },
    {
      "cell_type": "markdown",
      "source": [
        "## 🔍 Comparisons and Identity\n",
        "\n",
        "Use:\n",
        "- `==` for equality\n",
        "- `!=` for inequality\n",
        "- `<`, `<=`, `>`, `>=` for numerical comparisons\n",
        "- `is` to check if two variables point to the same object\n"
      ],
      "metadata": {
        "id": "zFQQglhAJZgn"
      }
    },
    {
      "cell_type": "markdown",
      "source": [
        "##Code Cell: Comparisons"
      ],
      "metadata": {
        "id": "gwKBg45WJhly"
      }
    },
    {
      "cell_type": "code",
      "source": [
        "print(1 == 1)    # => True\n",
        "print(2 == 1)    # => False\n",
        "print(1 != 1)    # => False\n",
        "print(2 != 1)    # => True\n",
        "\n",
        "print(1 < 10)    # => True\n",
        "print(1 > 10)    # => False\n",
        "print(2 <= 2)    # => True\n",
        "print(2 >= 2)    # => True\n",
        "\n",
        "# Chained comparisons\n",
        "print(1 < 2 and 2 < 3)   # => True\n",
        "print(1 < 2 < 3)         # => True\n",
        "print(2 < 3 < 2)         # => False\n"
      ],
      "metadata": {
        "id": "BqLxB4KQJgml",
        "outputId": "e45e4ae3-9d88-4922-d3b2-b76611a86714",
        "colab": {
          "base_uri": "https://localhost:8080/"
        }
      },
      "execution_count": 6,
      "outputs": [
        {
          "output_type": "stream",
          "name": "stdout",
          "text": [
            "True\n",
            "False\n",
            "False\n",
            "True\n",
            "True\n",
            "False\n",
            "True\n",
            "True\n",
            "True\n",
            "True\n",
            "False\n"
          ]
        }
      ]
    },
    {
      "cell_type": "markdown",
      "source": [
        "## Code Cell: Identity vs Equality"
      ],
      "metadata": {
        "id": "XypIl_EXJpf7"
      }
    },
    {
      "cell_type": "code",
      "source": [
        "a = [1, 2, 3, 4]\n",
        "b = a\n",
        "print(b is a)    # => True\n",
        "print(b == a)    # => True\n",
        "\n",
        "b = [1, 2, 3, 4]\n",
        "print(b is a)    # => False\n",
        "print(b == a)    # => True\n"
      ],
      "metadata": {
        "id": "VtznEwm3JnXw",
        "outputId": "1eba6d04-d9ea-44c6-f125-0f32365ac346",
        "colab": {
          "base_uri": "https://localhost:8080/"
        }
      },
      "execution_count": 8,
      "outputs": [
        {
          "output_type": "stream",
          "name": "stdout",
          "text": [
            "True\n",
            "True\n",
            "False\n",
            "True\n"
          ]
        }
      ]
    },
    {
      "cell_type": "markdown",
      "source": [
        "## 📝 Strings and Formatting\n",
        "\n",
        "Strings can be created with single or double quotes, and can be concatenated.\n",
        "F-strings allow you to embed variables inside strings.\n"
      ],
      "metadata": {
        "id": "L-e3VyMBJwdS"
      }
    },
    {
      "cell_type": "markdown",
      "source": [
        "##Code Cell: Strings"
      ],
      "metadata": {
        "id": "yRQPmEoXJ2zV"
      }
    },
    {
      "cell_type": "code",
      "source": [
        "print(\"This is a string.\")\n",
        "print('This is also a string.')\n",
        "\n",
        "# Concatenation\n",
        "print(\"Hello \" + \"world!\")\n",
        "print(\"Hello \" \"world!\")  # auto-concatenation\n",
        "\n",
        "# Indexing\n",
        "print(\"Hello world!\"[0])  # => 'H'\n",
        "\n",
        "# Length of a string\n",
        "print(len(\"This is a string\"))  # => 16\n",
        "\n",
        "# F-strings\n",
        "name = \"Reiko\"\n",
        "print(f\"She said her name is {name}.\")\n",
        "print(f\"{name} is {len(name)} characters long.\")\n"
      ],
      "metadata": {
        "id": "b2ACx4pTJy2E",
        "outputId": "d1a9c3e4-1fbb-45a6-9883-cddab4e25c42",
        "colab": {
          "base_uri": "https://localhost:8080/"
        }
      },
      "execution_count": 7,
      "outputs": [
        {
          "output_type": "stream",
          "name": "stdout",
          "text": [
            "This is a string.\n",
            "This is also a string.\n",
            "Hello world!\n",
            "Hello world!\n",
            "H\n",
            "16\n",
            "She said her name is Reiko.\n",
            "Reiko is 5 characters long.\n"
          ]
        }
      ]
    },
    {
      "cell_type": "markdown",
      "source": [
        "##Code Cell: None and Identity"
      ],
      "metadata": {
        "id": "KAMugD-FKA7F"
      }
    },
    {
      "cell_type": "code",
      "source": [
        "print(None)             # => None\n",
        "print(\"etc\" == None)    # => False\n",
        "print(None == None)     # => True\n"
      ],
      "metadata": {
        "id": "o9mNCXaWJ-_5",
        "outputId": "385374c9-895c-4e26-aab0-36e95f201501",
        "colab": {
          "base_uri": "https://localhost:8080/"
        }
      },
      "execution_count": 10,
      "outputs": [
        {
          "output_type": "stream",
          "name": "stdout",
          "text": [
            "None\n",
            "False\n",
            "True\n"
          ]
        }
      ]
    },
    {
      "cell_type": "markdown",
      "source": [
        "\n",
        "1. What is the result of `5 // 2`?\n",
        "2. What will `not (True and False)` return?\n",
        "3. What is the result of `\"Hi \" + \"there\"`?\n",
        "4. What is the value of `bool([])`?\n",
        "5. What does `is` check?\n",
        "6. Will `a == b` and `a is b` always give the same result?\n",
        "\n"
      ],
      "metadata": {
        "id": "IC8BJx2_KPu6"
      }
    },
    {
      "cell_type": "code",
      "source": [],
      "metadata": {
        "id": "ZRrMJtXyKckF"
      },
      "execution_count": null,
      "outputs": []
    }
  ]
}