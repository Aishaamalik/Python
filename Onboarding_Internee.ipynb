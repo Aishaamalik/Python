{
  "nbformat": 4,
  "nbformat_minor": 0,
  "metadata": {
    "colab": {
      "provenance": [],
      "include_colab_link": true
    },
    "kernelspec": {
      "name": "python3",
      "display_name": "Python 3"
    },
    "language_info": {
      "name": "python"
    }
  },
  "cells": [
    {
      "cell_type": "markdown",
      "metadata": {
        "id": "view-in-github",
        "colab_type": "text"
      },
      "source": [
        "<a href=\"https://colab.research.google.com/github/Aishaamalik/Python/blob/main/Onboarding_Internee.ipynb\" target=\"_parent\"><img src=\"https://colab.research.google.com/assets/colab-badge.svg\" alt=\"Open In Colab\"/></a>"
      ]
    },
    {
      "cell_type": "markdown",
      "source": [
        "# Part 1"
      ],
      "metadata": {
        "id": "uCH8_3sseKIF"
      }
    },
    {
      "cell_type": "code",
      "execution_count": null,
      "metadata": {
        "id": "CF_EDgt1-RUj",
        "colab": {
          "base_uri": "https://localhost:8080/"
        },
        "outputId": "e2e38eae-4167-46cb-80bd-47f42b8bb8f6"
      },
      "outputs": [
        {
          "output_type": "stream",
          "name": "stdout",
          "text": [
            "Hello, world!\n",
            "My age is 23\n"
          ]
        }
      ],
      "source": [
        "x = 5              # integer\n",
        "pi = 3.14          # float\n",
        "name = \"Anna\"      # string\n",
        "is_happy = True    # boolean\n",
        "\n",
        "print(\"Hello, world!\")\n",
        "print(\"My age is\", 23)\n"
      ]
    },
    {
      "cell_type": "markdown",
      "source": [
        "# 🧮 Primitive Datatypes and Operators\n",
        "\n",
        "In this section, we'll cover the most essential parts of Python:\n",
        "- Numbers and arithmetic\n",
        "- Booleans and logic\n",
        "- Comparisons\n",
        "- Strings\n",
        "- `None`\n",
        "- Identity vs Equality\n"
      ],
      "metadata": {
        "id": "VHzXzv3xIoBG"
      }
    },
    {
      "cell_type": "markdown",
      "source": [
        "##Code Cell: Numbers and Arithmetic"
      ],
      "metadata": {
        "id": "6vGjBkNAI67N"
      }
    },
    {
      "cell_type": "code",
      "source": [
        "# Numbers in Python\n",
        "3  # => 3\n",
        "\n",
        "# Basic math operations\n",
        "print(1 + 1)    # => 2\n",
        "print(8 - 1)    # => 7\n",
        "print(10 * 2)   # => 20\n",
        "print(35 / 5)   # => 7.0\n",
        "\n",
        "# Floor division (rounds down)\n",
        "print(5 // 3)       # => 1\n",
        "print(-5 // 3)      # => -2\n",
        "print(5.0 // 3.0)   # => 1.0\n",
        "print(-5.0 // 3.0)  # => -2.0\n",
        "\n",
        "# Normal division always returns a float\n",
        "print(10.0 / 3)     # => 3.3333333333333335\n",
        "\n",
        "# Modulo (remainder)\n",
        "print(7 % 3)    # => 1\n",
        "print(-7 % 3)   # => 2\n",
        "\n",
        "# Exponentiation\n",
        "print(2 ** 3)   # => 8\n",
        "\n",
        "# Precedence and parentheses\n",
        "print(1 + 3 * 2)     # => 7\n",
        "print((1 + 3) * 2)   # => 8\n"
      ],
      "metadata": {
        "colab": {
          "base_uri": "https://localhost:8080/"
        },
        "id": "QMpxWo9BIrKL",
        "outputId": "44ce4013-5ce1-4044-e402-5a0c400c14e3"
      },
      "execution_count": null,
      "outputs": [
        {
          "output_type": "stream",
          "name": "stdout",
          "text": [
            "2\n",
            "7\n",
            "20\n",
            "7.0\n",
            "1\n",
            "-2\n",
            "1.0\n",
            "-2.0\n",
            "3.3333333333333335\n",
            "1\n",
            "2\n",
            "8\n",
            "7\n",
            "8\n"
          ]
        }
      ]
    },
    {
      "cell_type": "markdown",
      "source": [
        "## 🧠 Boolean Logic\n",
        "\n",
        "Python has two boolean values: `True` and `False`.\n",
        "You can use logical operators like `not`, `and`, `or`.\n"
      ],
      "metadata": {
        "id": "nIdT542pJDBp"
      }
    },
    {
      "cell_type": "markdown",
      "source": [
        "## Code Cell: Boolean Values and Operators"
      ],
      "metadata": {
        "id": "8GBNQajsJHk6"
      }
    },
    {
      "cell_type": "code",
      "source": [
        "# Boolean values\n",
        "print(True)\n",
        "print(False)\n",
        "\n",
        "# Negation\n",
        "print(not True)     # => False\n",
        "print(not False)    # => True\n",
        "\n",
        "# Boolean operators\n",
        "print(True and False)   # => False\n",
        "print(False or True)    # => True\n",
        "\n",
        "# Booleans are also integers!\n",
        "print(True + True)  # => 2\n",
        "print(True * 8)     # => 8\n",
        "print(False - 5)    # => -5\n"
      ],
      "metadata": {
        "colab": {
          "base_uri": "https://localhost:8080/"
        },
        "id": "WBYejFw7JExt",
        "outputId": "93aadfc5-3e6f-496a-c685-4f637cfa9956"
      },
      "execution_count": null,
      "outputs": [
        {
          "output_type": "stream",
          "name": "stdout",
          "text": [
            "True\n",
            "False\n",
            "False\n",
            "True\n",
            "False\n",
            "True\n",
            "2\n",
            "8\n",
            "-5\n"
          ]
        }
      ]
    },
    {
      "cell_type": "markdown",
      "source": [
        "## Code Cell: Truthiness and Casting"
      ],
      "metadata": {
        "id": "MQF4l1vXJTV0"
      }
    },
    {
      "cell_type": "code",
      "source": [
        "# Comparisons with True/False\n",
        "print(0 == False)   # => True\n",
        "print(2 > True)     # => True\n",
        "print(2 == True)    # => False\n",
        "print(-5 != False)  # => True\n",
        "\n",
        "# Truthiness of values\n",
        "print(bool(0))      # => False\n",
        "print(bool(\"\"))     # => False\n",
        "print(bool([]))     # => False\n",
        "print(bool({}))     # => False\n",
        "print(bool(()))     # => False\n",
        "print(bool(set()))  # => False\n",
        "print(bool(4))      # => True\n",
        "print(bool(-6))     # => True\n",
        "\n",
        "# Logical operators return the actual value\n",
        "print(0 and 2)      # => 0\n",
        "print(-5 or 0)      # => -5\n"
      ],
      "metadata": {
        "colab": {
          "base_uri": "https://localhost:8080/"
        },
        "id": "NUVzYqQMJWL0",
        "outputId": "00f65ced-b0ef-4d3e-9620-d2a5269eeea3"
      },
      "execution_count": null,
      "outputs": [
        {
          "output_type": "stream",
          "name": "stdout",
          "text": [
            "True\n",
            "True\n",
            "False\n",
            "True\n",
            "False\n",
            "False\n",
            "False\n",
            "False\n",
            "False\n",
            "False\n",
            "True\n",
            "True\n",
            "0\n",
            "-5\n"
          ]
        }
      ]
    },
    {
      "cell_type": "markdown",
      "source": [
        "## 🔍 Comparisons and Identity\n",
        "\n",
        "Use:\n",
        "- `==` for equality\n",
        "- `!=` for inequality\n",
        "- `<`, `<=`, `>`, `>=` for numerical comparisons\n",
        "- `is` to check if two variables point to the same object\n"
      ],
      "metadata": {
        "id": "zFQQglhAJZgn"
      }
    },
    {
      "cell_type": "markdown",
      "source": [
        "##Code Cell: Comparisons"
      ],
      "metadata": {
        "id": "gwKBg45WJhly"
      }
    },
    {
      "cell_type": "code",
      "source": [
        "print(1 == 1)    # => True\n",
        "print(2 == 1)    # => False\n",
        "print(1 != 1)    # => False\n",
        "print(2 != 1)    # => True\n",
        "\n",
        "print(1 < 10)    # => True\n",
        "print(1 > 10)    # => False\n",
        "print(2 <= 2)    # => True\n",
        "print(2 >= 2)    # => True\n",
        "\n",
        "# Chained comparisons\n",
        "print(1 < 2 and 2 < 3)   # => True\n",
        "print(1 < 2 < 3)         # => True\n",
        "print(2 < 3 < 2)         # => False\n"
      ],
      "metadata": {
        "colab": {
          "base_uri": "https://localhost:8080/"
        },
        "id": "BqLxB4KQJgml",
        "outputId": "e45e4ae3-9d88-4922-d3b2-b76611a86714"
      },
      "execution_count": null,
      "outputs": [
        {
          "output_type": "stream",
          "name": "stdout",
          "text": [
            "True\n",
            "False\n",
            "False\n",
            "True\n",
            "True\n",
            "False\n",
            "True\n",
            "True\n",
            "True\n",
            "True\n",
            "False\n"
          ]
        }
      ]
    },
    {
      "cell_type": "markdown",
      "source": [
        "## Code Cell: Identity vs Equality"
      ],
      "metadata": {
        "id": "XypIl_EXJpf7"
      }
    },
    {
      "cell_type": "code",
      "source": [
        "a = [1, 2, 3, 4]\n",
        "b = a\n",
        "print(b is a)    # => True\n",
        "print(b == a)    # => True\n",
        "\n",
        "b = [1, 2, 3, 4]\n",
        "print(b is a)    # => False\n",
        "print(b == a)    # => True\n"
      ],
      "metadata": {
        "colab": {
          "base_uri": "https://localhost:8080/"
        },
        "id": "VtznEwm3JnXw",
        "outputId": "1eba6d04-d9ea-44c6-f125-0f32365ac346"
      },
      "execution_count": null,
      "outputs": [
        {
          "output_type": "stream",
          "name": "stdout",
          "text": [
            "True\n",
            "True\n",
            "False\n",
            "True\n"
          ]
        }
      ]
    },
    {
      "cell_type": "markdown",
      "source": [
        "## 📝 Strings and Formatting\n",
        "\n",
        "Strings can be created with single or double quotes, and can be concatenated.\n",
        "F-strings allow you to embed variables inside strings.\n"
      ],
      "metadata": {
        "id": "L-e3VyMBJwdS"
      }
    },
    {
      "cell_type": "markdown",
      "source": [
        "##Code Cell: Strings"
      ],
      "metadata": {
        "id": "yRQPmEoXJ2zV"
      }
    },
    {
      "cell_type": "code",
      "source": [
        "print(\"This is a string.\")\n",
        "print('This is also a string.')\n",
        "\n",
        "# Concatenation\n",
        "print(\"Hello \" + \"world!\")\n",
        "print(\"Hello \" \"world!\")  # auto-concatenation\n",
        "\n",
        "# Indexing\n",
        "print(\"Hello world!\"[0])  # => 'H'\n",
        "\n",
        "# Length of a string\n",
        "print(len(\"This is a string\"))  # => 16\n",
        "\n",
        "# F-strings\n",
        "name = \"Reiko\"\n",
        "print(f\"She said her name is {name}.\")\n",
        "print(f\"{name} is {len(name)} characters long.\")\n"
      ],
      "metadata": {
        "colab": {
          "base_uri": "https://localhost:8080/"
        },
        "id": "b2ACx4pTJy2E",
        "outputId": "d1a9c3e4-1fbb-45a6-9883-cddab4e25c42"
      },
      "execution_count": null,
      "outputs": [
        {
          "output_type": "stream",
          "name": "stdout",
          "text": [
            "This is a string.\n",
            "This is also a string.\n",
            "Hello world!\n",
            "Hello world!\n",
            "H\n",
            "16\n",
            "She said her name is Reiko.\n",
            "Reiko is 5 characters long.\n"
          ]
        }
      ]
    },
    {
      "cell_type": "markdown",
      "source": [
        "##Code Cell: None and Identity"
      ],
      "metadata": {
        "id": "KAMugD-FKA7F"
      }
    },
    {
      "cell_type": "code",
      "source": [
        "print(None)             # => None\n",
        "print(\"etc\" == None)    # => False\n",
        "print(None == None)     # => True\n"
      ],
      "metadata": {
        "colab": {
          "base_uri": "https://localhost:8080/"
        },
        "id": "o9mNCXaWJ-_5",
        "outputId": "385374c9-895c-4e26-aab0-36e95f201501"
      },
      "execution_count": null,
      "outputs": [
        {
          "output_type": "stream",
          "name": "stdout",
          "text": [
            "None\n",
            "False\n",
            "True\n"
          ]
        }
      ]
    },
    {
      "cell_type": "markdown",
      "source": [
        "## 🧪 Mini Quiz: Test Your Understanding!\n",
        "\n",
        "1. What is the result of `5 // 2`?\n",
        "2. What will `not (True and False)` return?\n",
        "3. What is the result of `\"Hi \" + \"there\"`?\n",
        "4. What is the value of `bool([])`?\n",
        "5. What does `is` check?\n",
        "6. Will `a == b` and `a is b` always give the same result?\n",
        "\n"
      ],
      "metadata": {
        "id": "OZ9CGOy3NguS"
      }
    },
    {
      "cell_type": "code",
      "source": [
        "# 1. What is the result of 5 // 2?\n",
        "# => 2\n",
        "\n",
        "# 2. What will not (True and False) return?\n",
        "# => True\n",
        "\n",
        "# 3. What is the result of \"Hi \" + \"there\"?\n",
        "# => \"Hi there\"\n",
        "\n",
        "# 4. What is the value of bool([])?\n",
        "# => False\n",
        "\n",
        "# 5. What does is check?\n",
        "# => It checks **identity** – whether two variables point to the exact same object in memory\n",
        "\n",
        "# 6. Will a == b and a is b always give the same result?\n",
        "# => No. `==` checks if the values are the same; `is` checks if both variables refer to the same object.\n"
      ],
      "metadata": {
        "id": "ZRrMJtXyKckF"
      },
      "execution_count": null,
      "outputs": []
    },
    {
      "cell_type": "markdown",
      "source": [
        "# Part 2"
      ],
      "metadata": {
        "id": "cBnqYH8peGuR"
      }
    },
    {
      "cell_type": "markdown",
      "source": [
        "# 📘 Section 2: Variables and Collections\n",
        "\n",
        "Welcome! In this section, we’ll explore how Python handles data using variables and various collections like lists, tuples, dictionaries, and sets.\n",
        "\n",
        "Python is dynamically typed — you don’t need to declare the type of variable beforehand. Collections help you store and manipulate groups of data efficiently.\n",
        "\n",
        "Let’s dive in step by step!\n"
      ],
      "metadata": {
        "id": "8mVweNCth2I6"
      }
    },
    {
      "cell_type": "markdown",
      "source": [
        "##📗 Printing and Input"
      ],
      "metadata": {
        "id": "6ACUUhK3h58q"
      }
    },
    {
      "cell_type": "code",
      "source": [
        "# Print with newline\n",
        "print(\"I'm Python. Nice to meet you!\")  # => I'm Python. Nice to meet you!\n",
        "\n",
        "# Print without newline\n",
        "print(\"Hello, World\", end=\"!\")  # => Hello, World!\n",
        "\n",
        "# Get input from user\n",
        "input_string_var = input(\"Enter some data: \")\n",
        "print(\"You entered:\", input_string_var)\n"
      ],
      "metadata": {
        "id": "QKdGKHmEh8yz",
        "outputId": "e546c354-7a7e-42e9-8dde-b0a64f3fbbb2",
        "colab": {
          "base_uri": "https://localhost:8080/"
        }
      },
      "execution_count": 2,
      "outputs": [
        {
          "output_type": "stream",
          "name": "stdout",
          "text": [
            "I'm Python. Nice to meet you!\n",
            "Hello, World!Enter some data: Anna\n",
            "You entered: Anna\n"
          ]
        }
      ]
    },
    {
      "cell_type": "markdown",
      "source": [
        "## 🧠 Variable Assignment\n",
        "\n",
        "Python uses the `=` operator to assign values to variables. Variable names should follow the snake_case convention.\n",
        "\n",
        "There’s no need for type declarations — Python figures it out for you.\n"
      ],
      "metadata": {
        "id": "YzkXnaeuiI9S"
      }
    },
    {
      "cell_type": "code",
      "source": [
        "some_var = 5\n",
        "print(some_var)  # => 5\n",
        "\n",
        "# Accessing an undefined variable will raise an error\n",
        "# print(some_unknown_var)  # ❌ Raises NameError\n"
      ],
      "metadata": {
        "id": "5O3cKWNPiLho",
        "outputId": "107c1e19-92c8-4b39-ea1d-ea9ffc3dd5ac",
        "colab": {
          "base_uri": "https://localhost:8080/"
        }
      },
      "execution_count": 3,
      "outputs": [
        {
          "output_type": "stream",
          "name": "stdout",
          "text": [
            "5\n"
          ]
        }
      ]
    },
    {
      "cell_type": "markdown",
      "source": [
        "## 🧠 Ternary Expressions\n",
        "\n",
        "Python allows inline `if-else` expressions. This is useful for quick, one-line decisions.\n"
      ],
      "metadata": {
        "id": "qlJ8gGLuiPKM"
      }
    },
    {
      "cell_type": "code",
      "source": [
        "result = \"yay!\" if 0 > 1 else \"nay!\"\n",
        "print(result)  # => nay!\n"
      ],
      "metadata": {
        "id": "kvNb--dAiQv0"
      },
      "execution_count": null,
      "outputs": []
    },
    {
      "cell_type": "markdown",
      "source": [
        "## 📚 Lists\n",
        "\n",
        "Lists are ordered and mutable collections.\n",
        "\n",
        "You can:\n",
        "- Add elements with `.append()`\n",
        "- Remove elements with `.pop()`, `del`, or `.remove()`\n",
        "- Access using index and slices\n"
      ],
      "metadata": {
        "id": "wOlF3zriiTvq"
      }
    },
    {
      "cell_type": "code",
      "source": [
        "li = []\n",
        "li.append(1)\n",
        "li.append(2)\n",
        "li.append(4)\n",
        "li.append(3)\n",
        "print(li)         # => [1, 2, 4, 3]\n",
        "\n",
        "li.pop()          # => 3 removed\n",
        "print(li)         # => [1, 2, 4]\n",
        "\n",
        "li.append(3)      # => [1, 2, 4, 3]\n",
        "print(li[0])      # => 1 (first element)\n",
        "print(li[-1])     # => 3 (last element)\n",
        "\n",
        "# Slicing examples\n",
        "print(li[1:3])    # => [2, 4]\n",
        "print(li[::-1])   # => [3, 4, 2, 1]\n",
        "\n",
        "# Copying a list\n",
        "li2 = li[:]\n",
        "print(li2 is li)  # => False\n",
        "\n",
        "# Removing items\n",
        "del li[2]\n",
        "li.remove(2)\n",
        "li.insert(1, 2)\n",
        "print(li.index(2))\n"
      ],
      "metadata": {
        "id": "EKYslZjdiVV1",
        "outputId": "fab950c9-c10b-4d33-b0ec-169914234267",
        "colab": {
          "base_uri": "https://localhost:8080/"
        }
      },
      "execution_count": 4,
      "outputs": [
        {
          "output_type": "stream",
          "name": "stdout",
          "text": [
            "[1, 2, 4, 3]\n",
            "[1, 2, 4]\n",
            "1\n",
            "3\n",
            "[2, 4]\n",
            "[3, 4, 2, 1]\n",
            "False\n",
            "1\n"
          ]
        }
      ]
    },
    {
      "cell_type": "markdown",
      "source": [
        "## 📚 Tuples\n",
        "\n",
        "Tuples are similar to lists but immutable.\n",
        "\n",
        "They:\n",
        "- Use parentheses ()\n",
        "- Can be unpacked\n",
        "- Support slicing and concatenation\n"
      ],
      "metadata": {
        "id": "_FiKK37SiZ3i"
      }
    },
    {
      "cell_type": "code",
      "source": [
        "tup = (1, 2, 3)\n",
        "print(tup[0])    # => 1\n",
        "\n",
        "# tup[0] = 3      # ❌ TypeError\n",
        "\n",
        "# One-item tuple\n",
        "print(type((1)))   # int\n",
        "print(type((1,)))  # tuple\n",
        "\n",
        "# Unpacking\n",
        "a, b, c = (1, 2, 3)\n",
        "print(a, b, c)\n",
        "\n",
        "a, *b, c = (1, 2, 3, 4)\n",
        "print(a, b, c)\n",
        "\n",
        "# Tuple swapping\n",
        "d, e = 4, 5\n",
        "e, d = d, e\n",
        "print(d, e)\n"
      ],
      "metadata": {
        "id": "Lf3LDwpVibR7"
      },
      "execution_count": null,
      "outputs": []
    },
    {
      "cell_type": "markdown",
      "source": [
        "## 📚 Dictionaries\n",
        "\n",
        "Dictionaries store key-value pairs.\n",
        "\n",
        "Keys must be immutable. Values can be any type.\n"
      ],
      "metadata": {
        "id": "VnzD3LRLicvb"
      }
    },
    {
      "cell_type": "code",
      "source": [
        "empty_dict = {}\n",
        "filled_dict = {\"one\": 1, \"two\": 2, \"three\": 3}\n",
        "\n",
        "print(filled_dict[\"one\"])  # => 1\n",
        "print(\"one\" in filled_dict)  # => True\n",
        "print(filled_dict.get(\"four\", \"Not Found\"))  # => Not Found\n",
        "\n",
        "# Add/update\n",
        "filled_dict[\"four\"] = 4\n",
        "filled_dict.setdefault(\"five\", 5)\n",
        "filled_dict.update({\"six\": 6})\n",
        "\n",
        "# Delete\n",
        "del filled_dict[\"one\"]\n",
        "\n",
        "# Merging\n",
        "print({**{\"a\": 1}, **{\"b\": 2}})\n"
      ],
      "metadata": {
        "id": "CXdxY7h3iedo"
      },
      "execution_count": null,
      "outputs": []
    },
    {
      "cell_type": "markdown",
      "source": [
        "## 📚 Sets\n",
        "\n",
        "Sets are unordered collections of **unique** items.\n",
        "\n",
        "They support set operations like union, intersection, and difference.\n"
      ],
      "metadata": {
        "id": "Jju1Y28Sig8l"
      }
    },
    {
      "cell_type": "code",
      "source": [
        "some_set = {1, 2, 2, 3, 4}\n",
        "print(some_set)  # => {1, 2, 3, 4}\n",
        "\n",
        "some_set.add(5)\n",
        "some_set.add(5)  # No duplicates\n",
        "print(some_set)\n",
        "\n",
        "# Set operations\n",
        "other_set = {3, 4, 5, 6}\n",
        "print(some_set & other_set)  # Intersection\n",
        "print(some_set | other_set)  # Union\n",
        "print(some_set - other_set)  # Difference\n",
        "print(some_set ^ other_set)  # Symmetric difference\n"
      ],
      "metadata": {
        "id": "aIVxGEsLiiq_"
      },
      "execution_count": null,
      "outputs": []
    },
    {
      "cell_type": "markdown",
      "source": [
        "## 🧪 Mini Quiz: Variables and Collections\n",
        "\n",
        "1. What’s the difference between `li.append(2)` and `li + [2]`?\n",
        "2. What does `li[::-1]` return?\n",
        "3. What happens if you do `tup[0] = 1`?\n",
        "4. How do you safely get a value from a dictionary without risking a KeyError?\n",
        "5. What operation does `&` perform on sets?\n",
        "6. Are sets ordered or unordered?\n",
        "\n",
        "✍️ Write your answers in comments in a new code cell.\n"
      ],
      "metadata": {
        "id": "RSoFpkyvilFy"
      }
    },
    {
      "cell_type": "code",
      "source": [],
      "metadata": {
        "id": "8M-ylQ2FinSw"
      },
      "execution_count": null,
      "outputs": []
    }
  ]
}